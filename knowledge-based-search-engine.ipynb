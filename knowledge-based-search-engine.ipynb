{
 "cells": [
  {
   "cell_type": "code",
   "execution_count": 9,
   "metadata": {
    "_cell_guid": "b1076dfc-b9ad-4769-8c92-a6c4dae69d19",
    "_uuid": "8f2839f25d086af736a60e9eeb907d3b93b6e0e5",
    "execution": {
     "iopub.execute_input": "2025-10-09T12:08:57.518770Z",
     "iopub.status.busy": "2025-10-09T12:08:57.517888Z",
     "iopub.status.idle": "2025-10-09T12:09:01.725582Z",
     "shell.execute_reply": "2025-10-09T12:09:01.724642Z",
     "shell.execute_reply.started": "2025-10-09T12:08:57.518730Z"
    },
    "trusted": true
   },
   "outputs": [],
   "source": [
    "# 1. Install dependencies\n",
    "!pip install streamlit PyMuPDF langchain langchain-community langchain-huggingface sentence-transformers chromadb transformers torch accelerate bitsandbytes -q"
   ]
  },
  {
   "cell_type": "code",
   "execution_count": null,
   "metadata": {
    "execution": {
     "iopub.execute_input": "2025-10-09T12:09:48.376456Z",
     "iopub.status.busy": "2025-10-09T12:09:48.375914Z",
     "iopub.status.idle": "2025-10-09T12:09:54.987001Z",
     "shell.execute_reply": "2025-10-09T12:09:54.986013Z",
     "shell.execute_reply.started": "2025-10-09T12:09:48.376433Z"
    },
    "trusted": true
   },
   "outputs": [
    {
     "name": "stdout",
     "output_type": "stream",
     "text": [
      "🧹 Cleaning up old Streamlit processes...\n",
      "🚀 Starting Streamlit server...                                                                     \n",
      "⏳ Waiting for server to initialize...\n"
     ]
    },
    {
     "name": "stderr",
     "output_type": "stream",
     "text": [
      "2025-10-09 12:09:50.197 \n",
      "Warning: the config option 'server.enableCORS=false' is not compatible with\n",
      "'server.enableXsrfProtection=true'.\n",
      "As a result, 'server.enableCORS' is being overridden to 'true'.\n",
      "\n",
      "More information:\n",
      "In order to protect against CSRF attacks, we send a cookie with each request.\n",
      "To do so, we must specify allowable origins, which places a restriction on\n",
      "cross-origin resource sharing.\n",
      "\n",
      "If cross origin resource sharing is required, please disable server.enableXsrfProtection.\n",
      "            \n"
     ]
    },
    {
     "name": "stdout",
     "output_type": "stream",
     "text": [
      "\n",
      "Collecting usage statistics. To deactivate, set browser.gatherUsageStats to false.\n",
      "\n",
      "\n",
      "  You can now view your Streamlit app in your browser.\n",
      "\n",
      "  Local URL: http://localhost:8501\n",
      "  Network URL: http://172.19.2.2:8501\n",
      "  External URL: http://34.55.254.167:8501\n",
      "\n",
      "✅ Your GPU-powered app is live at: NgrokTunnel: \"https://nonluminously-vizarded-jamey.ngrok-free.dev\" -> \"http://localhost:8501\"\n"
     ]
    },
    {
     "name": "stderr",
     "output_type": "stream",
     "text": [
      "2025-10-09 12:10:07.354703: E external/local_xla/xla/stream_executor/cuda/cuda_fft.cc:477] Unable to register cuFFT factory: Attempting to register factory for plugin cuFFT when one has already been registered\n",
      "WARNING: All log messages before absl::InitializeLog() is called are written to STDERR\n",
      "E0000 00:00:1760011807.385083     299 cuda_dnn.cc:8310] Unable to register cuDNN factory: Attempting to register factory for plugin cuDNN when one has already been registered\n",
      "E0000 00:00:1760011807.394629     299 cuda_blas.cc:1418] Unable to register cuBLAS factory: Attempting to register factory for plugin cuBLAS when one has already been registered\n",
      "AttributeError: 'MessageFactory' object has no attribute 'GetPrototype'\n",
      "AttributeError: 'MessageFactory' object has no attribute 'GetPrototype'\n",
      "AttributeError: 'MessageFactory' object has no attribute 'GetPrototype'\n",
      "AttributeError: 'MessageFactory' object has no attribute 'GetPrototype'\n",
      "AttributeError: 'MessageFactory' object has no attribute 'GetPrototype'\n",
      "/usr/local/lib/python3.11/dist-packages/pydantic/_internal/_generate_schema.py:2225: UnsupportedFieldAttributeWarning: The 'repr' attribute with value False was provided to the `Field()` function, which has no effect in the context it was used. 'repr' is field-specific metadata, and can only be attached to a model field using `Annotated` metadata or by assignment. This may have happened because an `Annotated` type alias using the `type` statement was used, or if the `Field()` function was attached to a single member of a union type.\n",
      "  warnings.warn(\n",
      "/usr/local/lib/python3.11/dist-packages/pydantic/_internal/_generate_schema.py:2225: UnsupportedFieldAttributeWarning: The 'frozen' attribute with value True was provided to the `Field()` function, which has no effect in the context it was used. 'frozen' is field-specific metadata, and can only be attached to a model field using `Annotated` metadata or by assignment. This may have happened because an `Annotated` type alias using the `type` statement was used, or if the `Field()` function was attached to a single member of a union type.\n",
      "  warnings.warn(\n",
      "Loading checkpoint shards: 100%|██████████| 3/3 [00:54<00:00, 18.32s/it]\n",
      "Device set to use cuda:0\n",
      "Setting `pad_token_id` to `eos_token_id`:2 for open-end generation.\n",
      "Setting `pad_token_id` to `eos_token_id`:2 for open-end generation.\n",
      "Setting `pad_token_id` to `eos_token_id`:2 for open-end generation.\n",
      "Setting `pad_token_id` to `eos_token_id`:2 for open-end generation.\n",
      "Setting `pad_token_id` to `eos_token_id`:2 for open-end generation.\n",
      "Setting `pad_token_id` to `eos_token_id`:2 for open-end generation.\n",
      "Setting `pad_token_id` to `eos_token_id`:2 for open-end generation.\n"
     ]
    }
   ],
   "source": [
    "# --- LAUNCH CELL ---\n",
    "import os\n",
    "import subprocess\n",
    "import time\n",
    "from pyngrok import ngrok\n",
    "from kaggle_secrets import UserSecretsClient\n",
    "\n",
    "# --- Kill any old Streamlit processes ---\n",
    "print(\"🧹 Cleaning up old Streamlit processes...\")\n",
    "!kill $(ps -f | grep streamlit | grep -v grep | awk '{print $2}') 2>/dev/null\n",
    "\n",
    "# --- Kaggle Secrets ---\n",
    "from kaggle_secrets import UserSecretsClient\n",
    "user_secrets = UserSecretsClient()\n",
    "authtoken = user_secrets.get_secret(\"NGROK_AUTHTOKEN\") #you need to have your NGROK Authentication token to be in the secrets.\n",
    "\n",
    "ngrok.kill() # Disconnect any existing ngrok tunnels\n",
    "ngrok.set_auth_token(authtoken)\n",
    "\n",
    "# --- Use subprocess to run Streamlit in the background ---\n",
    "print(\"🚀 Starting Streamlit server...\")\n",
    "process = subprocess.Popen([\n",
    "    \"streamlit\", \"run\", \"app.py\",\n",
    "    \"--server.headless\", \"true\",\n",
    "    \"--server.enableCORS\", \"false\",\n",
    "])\n",
    "\n",
    "# Give the server a few seconds to start up\n",
    "print(\"⏳ Waiting for server to initialize...\")\n",
    "time.sleep(5)\n",
    "\n",
    "# --- Create the public tunnel ---\n",
    "public_url = ngrok.connect(8501)\n",
    "print(f\"✅ Your GPU-powered app is live at: {public_url}\")"
   ]
  }
 ],
 "metadata": {
  "kaggle": {
   "accelerator": "nvidiaTeslaT4",
   "dataSources": [],
   "dockerImageVersionId": 31154,
   "isGpuEnabled": true,
   "isInternetEnabled": true,
   "language": "python",
   "sourceType": "notebook"
  },
  "kernelspec": {
   "display_name": "Python 3",
   "language": "python",
   "name": "python3"
  },
  "language_info": {
   "codemirror_mode": {
    "name": "ipython",
    "version": 3
   },
   "file_extension": ".py",
   "mimetype": "text/x-python",
   "name": "python",
   "nbconvert_exporter": "python",
   "pygments_lexer": "ipython3",
   "version": "3.11.13"
  }
 },
 "nbformat": 4,
 "nbformat_minor": 4
}
